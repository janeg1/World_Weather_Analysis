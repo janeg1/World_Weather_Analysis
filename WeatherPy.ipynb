{
 "cells": [
  {
   "cell_type": "code",
   "execution_count": 1,
   "id": "d19f4e62",
   "metadata": {},
   "outputs": [],
   "source": [
    "# Import the dependencies.\n",
    "import pandas as pd\n",
    "import matplotlib.pyplot as plt\n",
    "import numpy as np"
   ]
  },
  {
   "cell_type": "code",
   "execution_count": 2,
   "id": "35c0fc39",
   "metadata": {},
   "outputs": [
    {
     "data": {
      "text/plain": [
       "<zip at 0x203401c4480>"
      ]
     },
     "execution_count": 2,
     "metadata": {},
     "output_type": "execute_result"
    }
   ],
   "source": [
    "# Create a set of random latitude and longitude combinations.\n",
    "lats = np.random.uniform(low=-90.000, high=90.000, size=1500)\n",
    "lngs = np.random.uniform(low=-180.000, high=180.000, size=1500)\n",
    "lat_lngs = zip(lats, lngs)\n",
    "lat_lngs"
   ]
  },
  {
   "cell_type": "code",
   "execution_count": 3,
   "id": "6810d9e4",
   "metadata": {},
   "outputs": [],
   "source": [
    "# Add the latitudes and longitudes to a list.\n",
    "coordinates = list(lat_lngs)"
   ]
  },
  {
   "cell_type": "code",
   "execution_count": 4,
   "id": "028107fe",
   "metadata": {},
   "outputs": [],
   "source": [
    "from citipy import citipy"
   ]
  },
  {
   "cell_type": "code",
   "execution_count": 5,
   "id": "7cb5b0d8",
   "metadata": {
    "scrolled": true
   },
   "outputs": [
    {
     "data": {
      "text/plain": [
       "621"
      ]
     },
     "execution_count": 5,
     "metadata": {},
     "output_type": "execute_result"
    }
   ],
   "source": [
    "# Create a list for holding the cities.\n",
    "cities = []\n",
    "# Identify the nearest city for each latitude and longitude combination.\n",
    "for coordinate in coordinates:\n",
    "    city = citipy.nearest_city(coordinate[0], coordinate[1]).city_name\n",
    "\n",
    "    # If the city is unique, then we will add it to the cities list.\n",
    "    if city not in cities:\n",
    "        cities.append(city)\n",
    "# Print the city count to confirm sufficient count.\n",
    "len(cities)"
   ]
  },
  {
   "cell_type": "code",
   "execution_count": 6,
   "id": "17c64e24",
   "metadata": {
    "scrolled": true
   },
   "outputs": [],
   "source": [
    "# Import the requests library.\n",
    "import requests\n",
    "\n",
    "# Import the API key.\n",
    "from config import weather_api_key"
   ]
  },
  {
   "cell_type": "code",
   "execution_count": 7,
   "id": "a8ca6a53",
   "metadata": {
    "scrolled": true
   },
   "outputs": [
    {
     "name": "stdout",
     "output_type": "stream",
     "text": [
      "http://api.openweathermap.org/data/2.5/weather?units=Imperial&APPID=78d6bd24e551c8ca757a7ade0a25f106\n"
     ]
    }
   ],
   "source": [
    "  # Starting URL for Weather Map API Call.\n",
    "url = \"http://api.openweathermap.org/data/2.5/weather?units=Imperial&APPID=\" + weather_api_key\n",
    "print(url)"
   ]
  },
  {
   "cell_type": "code",
   "execution_count": 8,
   "id": "a03ff8c3",
   "metadata": {},
   "outputs": [],
   "source": [
    "# Import the time library and the datetime module from the datetime library\n",
    "import time\n",
    "from datetime import datetime"
   ]
  },
  {
   "cell_type": "code",
   "execution_count": null,
   "id": "30d3c09a",
   "metadata": {},
   "outputs": [
    {
     "name": "stdout",
     "output_type": "stream",
     "text": [
      "Beginning Data Retrieval     \n",
      "-----------------------------\n",
      "Processing Record 1 of Set 1 | grand centre\n",
      "City not found. Skipping...\n",
      "Processing Record 2 of Set 1 | svetlyy\n",
      "Processing Record 3 of Set 1 | sal rei\n",
      "Processing Record 4 of Set 1 | kapaa\n",
      "Processing Record 5 of Set 1 | pelym\n",
      "Processing Record 6 of Set 1 | esperance\n",
      "Processing Record 7 of Set 1 | milkovo\n",
      "Processing Record 8 of Set 1 | kaitangata\n",
      "Processing Record 9 of Set 1 | kiama\n",
      "Processing Record 10 of Set 1 | tiksi\n",
      "Processing Record 11 of Set 1 | ushuaia\n",
      "Processing Record 12 of Set 1 | east london\n",
      "Processing Record 13 of Set 1 | yumen\n",
      "Processing Record 14 of Set 1 | albany\n",
      "Processing Record 15 of Set 1 | sao joaquim\n",
      "Processing Record 16 of Set 1 | cape town\n",
      "Processing Record 17 of Set 1 | coquimbo\n",
      "Processing Record 18 of Set 1 | jamestown\n",
      "Processing Record 19 of Set 1 | umzimvubu\n",
      "City not found. Skipping...\n",
      "Processing Record 20 of Set 1 | tinskoy\n",
      "Processing Record 21 of Set 1 | roma\n",
      "Processing Record 22 of Set 1 | pimenta bueno\n",
      "Processing Record 23 of Set 1 | bairiki\n",
      "Processing Record 24 of Set 1 | yulara\n",
      "Processing Record 25 of Set 1 | bethel\n",
      "Processing Record 26 of Set 1 | mataura\n",
      "Processing Record 27 of Set 1 | kutum\n",
      "Processing Record 28 of Set 1 | taltal\n",
      "Processing Record 29 of Set 1 | marabba\n",
      "Processing Record 30 of Set 1 | longyearbyen\n",
      "Processing Record 31 of Set 1 | anadyr\n",
      "Processing Record 32 of Set 1 | nizhneyansk\n",
      "City not found. Skipping...\n",
      "Processing Record 33 of Set 1 | lebu\n",
      "Processing Record 34 of Set 1 | omboue\n",
      "Processing Record 35 of Set 1 | punta arenas\n",
      "Processing Record 36 of Set 1 | saint-philippe\n",
      "Processing Record 37 of Set 1 | bluff\n",
      "Processing Record 38 of Set 1 | hobart\n",
      "Processing Record 39 of Set 1 | barrow\n",
      "Processing Record 40 of Set 1 | san cristobal\n",
      "Processing Record 41 of Set 1 | cherskiy\n",
      "Processing Record 42 of Set 1 | tumannyy\n",
      "City not found. Skipping...\n",
      "Processing Record 43 of Set 1 | busselton\n",
      "Processing Record 44 of Set 1 | clyde river\n",
      "Processing Record 45 of Set 1 | lagoa\n",
      "Processing Record 46 of Set 1 | kavieng\n",
      "Processing Record 47 of Set 1 | kloulklubed\n",
      "Processing Record 48 of Set 1 | nikolskoye\n",
      "Processing Record 49 of Set 1 | yinchuan\n",
      "Processing Record 50 of Set 1 | hasaki\n",
      "Processing Record 1 of Set 2 | bolshegrivskoye\n",
      "City not found. Skipping...\n",
      "Processing Record 2 of Set 2 | buraydah\n",
      "Processing Record 3 of Set 2 | yarmouth\n",
      "Processing Record 4 of Set 2 | husavik\n",
      "Processing Record 5 of Set 2 | butaritari\n",
      "Processing Record 6 of Set 2 | nouadhibou\n",
      "Processing Record 7 of Set 2 | sao desiderio\n",
      "Processing Record 8 of Set 2 | verkhneyarkeyevo\n",
      "Processing Record 9 of Set 2 | nanortalik\n",
      "Processing Record 10 of Set 2 | juifang\n",
      "City not found. Skipping...\n",
      "Processing Record 11 of Set 2 | yerbogachen\n",
      "Processing Record 12 of Set 2 | cidreira\n",
      "Processing Record 13 of Set 2 | qaanaaq\n",
      "Processing Record 14 of Set 2 | bathsheba\n",
      "Processing Record 15 of Set 2 | faanui\n",
      "Processing Record 16 of Set 2 | barentsburg\n",
      "City not found. Skipping...\n",
      "Processing Record 17 of Set 2 | sao filipe\n",
      "Processing Record 18 of Set 2 | pryazha\n",
      "Processing Record 19 of Set 2 | mar del plata\n",
      "Processing Record 20 of Set 2 | lesosibirsk\n",
      "Processing Record 21 of Set 2 | saint-georges\n",
      "Processing Record 22 of Set 2 | nome\n",
      "Processing Record 23 of Set 2 | gostyn\n",
      "Processing Record 24 of Set 2 | hithadhoo\n",
      "Processing Record 25 of Set 2 | agadir\n",
      "Processing Record 26 of Set 2 | hilo\n",
      "Processing Record 27 of Set 2 | puerto ayora\n",
      "Processing Record 28 of Set 2 | goedereede\n",
      "Processing Record 29 of Set 2 | new norfolk\n",
      "Processing Record 30 of Set 2 | hermanus\n",
      "Processing Record 31 of Set 2 | fort nelson\n",
      "Processing Record 32 of Set 2 | saint george\n",
      "Processing Record 33 of Set 2 | cap-aux-meules\n",
      "Processing Record 34 of Set 2 | hailar\n",
      "Processing Record 35 of Set 2 | pavilosta\n",
      "Processing Record 36 of Set 2 | vanimo\n",
      "Processing Record 37 of Set 2 | shubarkuduk\n",
      "Processing Record 38 of Set 2 | te anau\n",
      "Processing Record 39 of Set 2 | tuktoyaktuk\n",
      "Processing Record 40 of Set 2 | port hedland\n",
      "Processing Record 41 of Set 2 | lazaro cardenas\n",
      "Processing Record 42 of Set 2 | gemena\n",
      "Processing Record 43 of Set 2 | sembe\n",
      "Processing Record 44 of Set 2 | sinkat\n",
      "City not found. Skipping...\n",
      "Processing Record 45 of Set 2 | berlevag\n",
      "Processing Record 46 of Set 2 | hami\n",
      "Processing Record 47 of Set 2 | beringovskiy\n",
      "Processing Record 48 of Set 2 | paamiut\n",
      "Processing Record 49 of Set 2 | victoria\n",
      "Processing Record 50 of Set 2 | shache\n",
      "Processing Record 1 of Set 3 | kieta\n",
      "Processing Record 2 of Set 3 | cabo san lucas\n",
      "Processing Record 3 of Set 3 | gambela\n",
      "Processing Record 4 of Set 3 | cosala\n",
      "Processing Record 5 of Set 3 | hobyo\n",
      "Processing Record 6 of Set 3 | rikitea\n",
      "Processing Record 7 of Set 3 | lavrentiya\n",
      "Processing Record 8 of Set 3 | yellowknife\n",
      "Processing Record 9 of Set 3 | laguna\n",
      "Processing Record 10 of Set 3 | ribeira grande\n",
      "Processing Record 11 of Set 3 | hammerfest\n",
      "Processing Record 12 of Set 3 | vostok\n",
      "Processing Record 13 of Set 3 | erenhot\n",
      "Processing Record 14 of Set 3 | vaini\n",
      "Processing Record 15 of Set 3 | huarmey\n",
      "Processing Record 16 of Set 3 | georgetown\n",
      "Processing Record 17 of Set 3 | huangmei\n",
      "Processing Record 18 of Set 3 | constitucion\n",
      "Processing Record 19 of Set 3 | bambous virieux\n",
      "Processing Record 20 of Set 3 | dalbandin\n",
      "Processing Record 21 of Set 3 | belmonte\n",
      "Processing Record 22 of Set 3 | tonantins\n",
      "Processing Record 23 of Set 3 | puerto escondido\n",
      "Processing Record 24 of Set 3 | ust-tsilma\n",
      "Processing Record 25 of Set 3 | illoqqortoormiut\n",
      "City not found. Skipping...\n",
      "Processing Record 26 of Set 3 | eufaula\n",
      "Processing Record 27 of Set 3 | samarai\n",
      "Processing Record 28 of Set 3 | belaya kholunitsa\n",
      "Processing Record 29 of Set 3 | nacala\n",
      "Processing Record 30 of Set 3 | kamenka\n",
      "Processing Record 31 of Set 3 | natitingou\n",
      "Processing Record 32 of Set 3 | bilibino\n",
      "Processing Record 33 of Set 3 | souillac\n",
      "Processing Record 34 of Set 3 | yefira\n",
      "City not found. Skipping...\n",
      "Processing Record 35 of Set 3 | ponta delgada\n",
      "Processing Record 36 of Set 3 | bredasdorp\n",
      "Processing Record 37 of Set 3 | belushya guba\n",
      "City not found. Skipping...\n",
      "Processing Record 38 of Set 3 | talnakh\n",
      "Processing Record 39 of Set 3 | tual\n",
      "Processing Record 40 of Set 3 | bengkulu\n",
      "Processing Record 41 of Set 3 | taolanaro\n",
      "City not found. Skipping...\n",
      "Processing Record 42 of Set 3 | varnamo\n",
      "Processing Record 43 of Set 3 | malindi\n",
      "Processing Record 44 of Set 3 | kodiak\n",
      "Processing Record 45 of Set 3 | marsa matruh\n",
      "Processing Record 46 of Set 3 | nantucket\n",
      "Processing Record 47 of Set 3 | saskylakh\n",
      "Processing Record 48 of Set 3 | turukhansk\n",
      "Processing Record 49 of Set 3 | high level\n",
      "Processing Record 50 of Set 3 | avera\n",
      "Processing Record 1 of Set 4 | port alfred\n",
      "Processing Record 2 of Set 4 | afua\n",
      "Processing Record 3 of Set 4 | baracoa\n",
      "Processing Record 4 of Set 4 | severo-kurilsk\n",
      "Processing Record 5 of Set 4 | thompson\n",
      "Processing Record 6 of Set 4 | mana\n",
      "Processing Record 7 of Set 4 | lolua\n",
      "City not found. Skipping...\n",
      "Processing Record 8 of Set 4 | bogorodsk\n",
      "Processing Record 9 of Set 4 | sao joao da barra\n",
      "Processing Record 10 of Set 4 | lusambo\n",
      "Processing Record 11 of Set 4 | tawnat\n",
      "City not found. Skipping...\n",
      "Processing Record 12 of Set 4 | brae\n",
      "Processing Record 13 of Set 4 | vartej\n",
      "Processing Record 14 of Set 4 | churapcha\n",
      "Processing Record 15 of Set 4 | touros\n",
      "Processing Record 16 of Set 4 | dustlik\n",
      "Processing Record 17 of Set 4 | avarua\n",
      "Processing Record 18 of Set 4 | mys shmidta\n",
      "City not found. Skipping...\n",
      "Processing Record 19 of Set 4 | gurlan\n",
      "Processing Record 20 of Set 4 | tigre\n",
      "Processing Record 21 of Set 4 | yurty\n",
      "Processing Record 22 of Set 4 | ilawe\n",
      "Processing Record 23 of Set 4 | chokurdakh\n",
      "Processing Record 24 of Set 4 | hambantota\n",
      "Processing Record 25 of Set 4 | derby\n",
      "Processing Record 26 of Set 4 | polyany\n",
      "Processing Record 27 of Set 4 | cockburn town\n",
      "Processing Record 28 of Set 4 | alice springs\n",
      "Processing Record 29 of Set 4 | atuona\n",
      "Processing Record 30 of Set 4 | carnarvon\n",
      "Processing Record 31 of Set 4 | port lincoln\n",
      "Processing Record 32 of Set 4 | narsaq\n",
      "Processing Record 33 of Set 4 | attawapiskat\n",
      "City not found. Skipping...\n",
      "Processing Record 34 of Set 4 | kahului\n",
      "Processing Record 35 of Set 4 | mazatan\n",
      "Processing Record 36 of Set 4 | petrykiv\n"
     ]
    },
    {
     "name": "stdout",
     "output_type": "stream",
     "text": [
      "Processing Record 37 of Set 4 | luangwa\n",
      "Processing Record 38 of Set 4 | podgornoye\n",
      "Processing Record 39 of Set 4 | shiyan\n",
      "Processing Record 40 of Set 4 | vardo\n",
      "Processing Record 41 of Set 4 | kozan\n",
      "Processing Record 42 of Set 4 | mayumba\n",
      "Processing Record 43 of Set 4 | leningradskiy\n",
      "Processing Record 44 of Set 4 | grand river south east\n",
      "City not found. Skipping...\n",
      "Processing Record 45 of Set 4 | aksehir\n",
      "Processing Record 46 of Set 4 | mokhsogollokh\n",
      "Processing Record 47 of Set 4 | araras\n",
      "Processing Record 48 of Set 4 | inongo\n",
      "Processing Record 49 of Set 4 | vaitupu\n",
      "City not found. Skipping...\n",
      "Processing Record 50 of Set 4 | katangli\n"
     ]
    }
   ],
   "source": [
    "# Create an empty list to hold the weather data.\n",
    "city_data = []\n",
    "# Print the beginning of the logging.\n",
    "print(\"Beginning Data Retrieval     \")\n",
    "print(\"-----------------------------\")\n",
    "\n",
    "# Create counters.\n",
    "record_count = 1\n",
    "set_count = 1\n",
    "\n",
    "# Loop through all the cities in the list.\n",
    "for i, city in enumerate(cities):\n",
    "\n",
    "    # Group cities in sets of 50 for logging purposes.\n",
    "    if (i % 50 == 0 and i >= 50):\n",
    "        set_count += 1\n",
    "        record_count = 1\n",
    "        time.sleep(60)\n",
    "\n",
    "    # Create endpoint URL with each city.\n",
    "    city_url = url + \"&q=\" + city.replace(\" \",\"+\")\n",
    "\n",
    "    # Log the URL, record, and set numbers and the city.\n",
    "    print(f\"Processing Record {record_count} of Set {set_count} | {city}\")\n",
    "    # Add 1 to the record count.\n",
    "    record_count += 1\n",
    "    \n",
    "# Run an API request for each of the cities.\n",
    "    try:\n",
    "        # Parse the JSON and retrieve data.\n",
    "        city_weather = requests.get(city_url).json()\n",
    "        # Parse out the needed data.\n",
    "        city_lat = city_weather[\"coord\"][\"lat\"]\n",
    "        city_lng = city_weather[\"coord\"][\"lon\"]\n",
    "        city_max_temp = city_weather[\"main\"][\"temp_max\"]\n",
    "        city_humidity = city_weather[\"main\"][\"humidity\"]\n",
    "        city_clouds = city_weather[\"clouds\"][\"all\"]\n",
    "        city_wind = city_weather[\"wind\"][\"speed\"]\n",
    "        city_country = city_weather[\"sys\"][\"country\"]\n",
    "        # Convert the date to ISO standard.\n",
    "        city_date = datetime.utcfromtimestamp(city_weather[\"dt\"]).strftime('%Y-%m-%d %H:%M:%S')\n",
    "        # Append the city information into city_data list.\n",
    "        city_data.append({\"City\": city.title(),\n",
    "                          \"Lat\": city_lat,\n",
    "                          \"Lng\": city_lng,\n",
    "                          \"Max Temp\": city_max_temp,\n",
    "                          \"Humidity\": city_humidity,\n",
    "                          \"Cloudiness\": city_clouds,\n",
    "                          \"Wind Speed\": city_wind,\n",
    "                          \"Country\": city_country,\n",
    "                          \"Date\": city_date})\n",
    "\n",
    "# If an error is experienced, skip the city.\n",
    "    except:\n",
    "        print(\"City not found. Skipping...\")\n",
    "        pass\n",
    "\n",
    "# Indicate that Data Loading is complete.\n",
    "print(\"-----------------------------\")\n",
    "print(\"Data Retrieval Complete      \")\n",
    "print(\"-----------------------------\")    "
   ]
  },
  {
   "cell_type": "code",
   "execution_count": null,
   "id": "00d63d6c",
   "metadata": {},
   "outputs": [],
   "source": [
    "# Convert the array of dictionaries to a Pandas DataFrame.\n",
    "city_data_df = pd.DataFrame(city_data)\n",
    "city_data_df.head(10)"
   ]
  },
  {
   "cell_type": "code",
   "execution_count": null,
   "id": "0685ef2c",
   "metadata": {},
   "outputs": [],
   "source": [
    "# Create the output file (CSV).\n",
    "output_data_file = \"weather_data/cities.csv\"\n",
    "# Export the City_Data into a CSV.\n",
    "city_data_df.to_csv(output_data_file, index_label=\"City_ID\")"
   ]
  },
  {
   "cell_type": "code",
   "execution_count": null,
   "id": "5712fdaf",
   "metadata": {},
   "outputs": [],
   "source": [
    "\n",
    "# Extract relevant fields from the DataFrame for plotting.\n",
    "lats = city_data_df[\"Lat\"]\n",
    "max_temps = city_data_df[\"Max Temp\"]\n",
    "humidity = city_data_df[\"Humidity\"]\n",
    "cloudiness = city_data_df[\"Cloudiness\"]\n",
    "wind_speed = city_data_df[\"Wind Speed\"]"
   ]
  },
  {
   "cell_type": "code",
   "execution_count": null,
   "id": "10e43c04",
   "metadata": {},
   "outputs": [],
   "source": [
    "# Import the time module.\n",
    "import time\n",
    "# Get today's date in seconds.\n",
    "today = time.time()\n",
    "today"
   ]
  },
  {
   "cell_type": "code",
   "execution_count": null,
   "id": "2678bcfb",
   "metadata": {},
   "outputs": [],
   "source": [
    "# Import time module\n",
    "import time\n",
    "\n",
    "# Build the scatter plot for latitude vs. max temperature.\n",
    "plt.scatter(lats,\n",
    "            max_temps,\n",
    "            edgecolor=\"black\", linewidths=1, marker=\"o\",\n",
    "            alpha=0.8, label=\"Cities\")\n",
    "\n",
    "# Incorporate the other graph properties.\n",
    "plt.title(f\"City Latitude vs. Max Temperature \"+ time.strftime(\"%x\"))\n",
    "plt.ylabel(\"Max Temperature (F)\")\n",
    "plt.xlabel(\"Latitude\")\n",
    "plt.grid(True)\n",
    "\n",
    "# Save the figure.\n",
    "plt.savefig(\"weather_data/Fig1.png\")\n",
    "\n",
    "# Show plot.\n",
    "plt.show()"
   ]
  },
  {
   "cell_type": "code",
   "execution_count": null,
   "id": "1573530b",
   "metadata": {},
   "outputs": [],
   "source": [
    "# Build the scatter plots for latitude vs. humidity.\n",
    "plt.scatter(lats,\n",
    "            humidity,\n",
    "            edgecolor=\"black\", linewidths=1, marker=\"o\",\n",
    "            alpha=0.8, label=\"Cities\")\n",
    "\n",
    "# Incorporate the other graph properties.\n",
    "plt.title(f\"City Latitude vs. Humidity \"+ time.strftime(\"%x\"))\n",
    "plt.ylabel(\"Humidity (%)\")\n",
    "plt.xlabel(\"Latitude\")\n",
    "plt.grid(True)\n",
    "# Save the figure.\n",
    "plt.savefig(\"weather_data/Fig2.png\")\n",
    "# Show plot.\n",
    "plt.show()"
   ]
  },
  {
   "cell_type": "code",
   "execution_count": null,
   "id": "9eddb7bd",
   "metadata": {},
   "outputs": [],
   "source": [
    "# Build the scatter plots for latitude vs. cloudiness.\n",
    "plt.scatter(lats,\n",
    "            cloudiness,\n",
    "            edgecolor=\"black\", linewidths=1, marker=\"o\",\n",
    "            alpha=0.8, label=\"Cities\")\n",
    "\n",
    "# Incorporate the other graph properties.\n",
    "plt.title(f\"City Latitude vs. Cloudiness (%) \"+ time.strftime(\"%x\"))\n",
    "plt.ylabel(\"Cloudiness (%)\")\n",
    "plt.xlabel(\"Latitude\")\n",
    "plt.grid(True)\n",
    "# Save the figure.\n",
    "plt.savefig(\"weather_data/Fig3.png\")\n",
    "# Show plot.\n",
    "plt.show()"
   ]
  },
  {
   "cell_type": "code",
   "execution_count": null,
   "id": "e75399fb",
   "metadata": {
    "scrolled": true
   },
   "outputs": [],
   "source": [
    "# Build the scatter plots for latitude vs. wind speed.\n",
    "plt.scatter(lats,\n",
    "            wind_speed,\n",
    "            edgecolor=\"black\", linewidths=1, marker=\"o\",\n",
    "            alpha=0.8, label=\"Cities\")\n",
    "\n",
    "# Incorporate the other graph properties.\n",
    "plt.title(f\"City Latitude vs. Wind Speed \"+ time.strftime(\"%x\"))\n",
    "plt.ylabel(\"Wind Speed (mph)\")\n",
    "plt.xlabel(\"Latitude\")\n",
    "plt.grid(True)\n",
    "# Save the figure.\n",
    "plt.savefig(\"weather_data/Fig4.png\")\n",
    "# Show plot.\n",
    "plt.show()"
   ]
  },
  {
   "cell_type": "code",
   "execution_count": null,
   "id": "b41555f1",
   "metadata": {},
   "outputs": [],
   "source": [
    "index13 = city_data_df.loc[13]\n",
    "index13"
   ]
  },
  {
   "cell_type": "code",
   "execution_count": null,
   "id": "48a051c0",
   "metadata": {},
   "outputs": [],
   "source": [
    "# Create a function to create perform linear regression on the weather data\n",
    "# and plot a regression line and the equation with the data.\n",
    "def plot_linear_regression(x_values, y_values, title, y_label, text_coordinates):\n",
    "    \n",
    "# Import linregress\n",
    "from scipy.stats import linregress\n",
    "\n",
    "# Create a function to create perform linear regression on the weather data\n",
    "# and plot a regression line and the equation with the data.\n",
    "def plot_linear_regression(x_values, y_values, title, y_label, text_coordinates):\n",
    "\n",
    "    # Run regression on hemisphere weather data.\n",
    "    (slope, intercept, r_value, p_value, std_err) = linregress(x_values, y_values)\n",
    "\n",
    "    # Calculate the regression line \"y values\" from the slope and intercept.\n",
    "    regress_values = x_values * slope + intercept\n",
    "    # Get the equation of the line.\n",
    "    line_eq = \"y = \" + str(round(slope,2)) + \"x + \" + str(round(intercept,2))\n",
    "    # Create a scatter plot and plot the regression line.\n",
    "    plt.scatter(x_values,y_values)\n",
    "    plt.plot(x_values,regress_values,\"r\")\n",
    "    # Annotate the text for the line equation.\n",
    "    plt.annotate(line_eq, text_coordinates, fontsize=15, color=\"red\")\n",
    "    plt.title(title)\n",
    "    plt.xlabel('Latitude')\n",
    "    plt.ylabel(y_label)\n",
    "    plt.show()\n",
    "If we run this code there will be no output until we call the function with five pa    \n",
    "\n",
    "index13 = city_data_df.loc[13]"
   ]
  },
  {
   "cell_type": "code",
   "execution_count": null,
   "id": "dffe7786",
   "metadata": {},
   "outputs": [],
   "source": [
    "index13 = city_data_df.loc[13]\n",
    "index13"
   ]
  },
  {
   "cell_type": "code",
   "execution_count": null,
   "id": "94ccc2d3",
   "metadata": {},
   "outputs": [],
   "source": [
    "city_data_df.loc[(city_data_df[\"Lat\"] >= 0)]\n",
    "city_data_df.loc[(city_data_df[\"Lat\"] >= 0)].head()"
   ]
  },
  {
   "cell_type": "code",
   "execution_count": null,
   "id": "76aec76f",
   "metadata": {},
   "outputs": [],
   "source": [
    "# Create Northern and Southern Hemisphere DataFrames.\n",
    "northern_hemi_df = city_data_df.loc[(city_data_df[\"Lat\"] >= 0)]\n",
    "southern_hemi_df = city_data_df.loc[(city_data_df[\"Lat\"] < 0)]"
   ]
  },
  {
   "cell_type": "code",
   "execution_count": null,
   "id": "5946a324",
   "metadata": {},
   "outputs": [],
   "source": [
    "# Linear regression on the Northern Hemisphere\n",
    "x_values = northern_hemi_df[\"Lat\"]\n",
    "y_values = northern_hemi_df[\"Max Temp\"]\n",
    "# Call the function.\n",
    "plot_linear_regression(x_values, y_values,\n",
    "                       'Linear Regression on the Northern Hemisphere \\\n",
    "                        for Maximum Temperature', 'Max Temp',(10,40))"
   ]
  },
  {
   "cell_type": "code",
   "execution_count": null,
   "id": "447f35d1",
   "metadata": {},
   "outputs": [],
   "source": [
    "# Linear regression on the Southern Hemisphere\n",
    "x_values = southern_hemi_df[\"Lat\"]\n",
    "y_values = southern_hemi_df[\"Max Temp\"]\n",
    "# Call the function.\n",
    "plot_linear_regression(x_values, y_values,\n",
    "                       'Linear Regression on the Southern Hemisphere \\\n",
    "                        for Maximum Temperature', 'Max Temp',(-50,90))"
   ]
  }
 ],
 "metadata": {
  "kernelspec": {
   "display_name": "Python 3 (ipykernel)",
   "language": "python",
   "name": "python3"
  },
  "language_info": {
   "codemirror_mode": {
    "name": "ipython",
    "version": 3
   },
   "file_extension": ".py",
   "mimetype": "text/x-python",
   "name": "python",
   "nbconvert_exporter": "python",
   "pygments_lexer": "ipython3",
   "version": "3.9.13"
  }
 },
 "nbformat": 4,
 "nbformat_minor": 5
}
